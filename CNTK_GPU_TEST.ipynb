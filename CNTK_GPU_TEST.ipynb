{
 "cells": [
  {
   "cell_type": "code",
   "execution_count": 1,
   "metadata": {},
   "outputs": [
    {
     "data": {
      "text/plain": [
       "True"
      ]
     },
     "execution_count": 1,
     "metadata": {},
     "output_type": "execute_result"
    }
   ],
   "source": [
    "from cntk.device import try_set_default_device, gpu\n",
    "try_set_default_device(gpu(0))"
   ]
  },
  {
   "cell_type": "code",
   "execution_count": 2,
   "metadata": {},
   "outputs": [
    {
     "name": "stdout",
     "output_type": "stream",
     "text": [
      " average      since    average      since      examples\n",
      "    loss       last     metric       last              \n",
      " ------------------------------------------------------\n",
      "Learning rate per minibatch: 0.125\n",
      "    0.685      0.685       0.52       0.52            25\n",
      "    0.665      0.656      0.507        0.5            75\n",
      "    0.662       0.66      0.406       0.33           175\n",
      "    0.604      0.553      0.347      0.295           375\n",
      "    0.547      0.493       0.25       0.16           775\n",
      "    0.477       0.41      0.183      0.117          1575\n",
      "    0.399      0.323      0.141     0.0994          3175\n",
      "    0.332      0.265      0.115       0.09          6375\n",
      "     0.28      0.228     0.0964     0.0775         12775\n",
      "    0.248      0.215     0.0874     0.0784         25575\n",
      " error rate on an unseen minibatch: 0.0\n"
     ]
    },
    {
     "data": {
      "text/plain": [
       "(0.24764232312329112, 0.0)"
      ]
     },
     "execution_count": 2,
     "metadata": {},
     "output_type": "execute_result"
    }
   ],
   "source": [
    "from __future__ import print_function\n",
    "import numpy as np\n",
    "import cntk as C\n",
    "from cntk.learners import sgd, learning_rate_schedule, UnitType\n",
    "from cntk.logging import ProgressPrinter\n",
    "from cntk.layers import Dense, Sequential\n",
    "\n",
    "def generate_random_data(sample_size, feature_dim, num_classes):\n",
    "     # Create synthetic data using NumPy.\n",
    "     Y = np.random.randint(size=(sample_size, 1), low=0, high=num_classes)\n",
    "\n",
    "     # Make sure that the data is separable\n",
    "     X = (np.random.randn(sample_size, feature_dim) + 3) * (Y + 1)\n",
    "     X = X.astype(np.float32)\n",
    "     # converting class 0 into the vector \"1 0 0\",\n",
    "     # class 1 into vector \"0 1 0\", ...\n",
    "     class_ind = [Y == class_number for class_number in range(num_classes)]\n",
    "     Y = np.asarray(np.hstack(class_ind), dtype=np.float32)\n",
    "     return X, Y\n",
    "\n",
    "def ffnet():\n",
    "    inputs = 2\n",
    "    outputs = 2\n",
    "    layers = 2\n",
    "    hidden_dimension = 50\n",
    "\n",
    "    # input variables denoting the features and label data\n",
    "    features = C.input_variable((inputs), np.float32)\n",
    "    label = C.input_variable((outputs), np.float32)\n",
    "\n",
    "    # Instantiate the feedforward classification model\n",
    "    my_model = Sequential ([\n",
    "                    Dense(hidden_dimension, activation=C.sigmoid),\n",
    "                    Dense(outputs)])\n",
    "    z = my_model(features)\n",
    "\n",
    "    ce = C.cross_entropy_with_softmax(z, label)\n",
    "    pe = C.classification_error(z, label)\n",
    "\n",
    "    # Instantiate the trainer object to drive the model training\n",
    "    lr_per_minibatch = learning_rate_schedule(0.125, UnitType.minibatch)\n",
    "    progress_printer = ProgressPrinter(0)\n",
    "    trainer = C.Trainer(z, (ce, pe), [sgd(z.parameters, lr=lr_per_minibatch)], [progress_printer])\n",
    "\n",
    "    # Get minibatches of training data and perform model training\n",
    "    minibatch_size = 25\n",
    "    num_minibatches_to_train = 1024\n",
    "\n",
    "    aggregate_loss = 0.0\n",
    "    for i in range(num_minibatches_to_train):\n",
    "        train_features, labels = generate_random_data(minibatch_size, inputs, outputs)\n",
    "        # Specify the mapping of input variables in the model to actual minibatch data to be trained with\n",
    "        trainer.train_minibatch({features : train_features, label : labels})\n",
    "        sample_count = trainer.previous_minibatch_sample_count\n",
    "        aggregate_loss += trainer.previous_minibatch_loss_average * sample_count\n",
    "\n",
    "    last_avg_error = aggregate_loss / trainer.total_number_of_samples_seen\n",
    "\n",
    "    test_features, test_labels = generate_random_data(minibatch_size, inputs, outputs)\n",
    "    avg_error = trainer.test_minibatch({features : test_features, label : test_labels})\n",
    "    print(' error rate on an unseen minibatch: {}'.format(avg_error))\n",
    "    return last_avg_error, avg_error\n",
    "\n",
    "np.random.seed(98052)\n",
    "ffnet()"
   ]
  }
 ],
 "metadata": {
  "kernelspec": {
   "display_name": "Python 3",
   "language": "python",
   "name": "python3"
  },
  "language_info": {
   "codemirror_mode": {
    "name": "ipython",
    "version": 3
   },
   "file_extension": ".py",
   "mimetype": "text/x-python",
   "name": "python",
   "nbconvert_exporter": "python",
   "pygments_lexer": "ipython3",
   "version": "3.6.2"
  }
 },
 "nbformat": 4,
 "nbformat_minor": 2
}
