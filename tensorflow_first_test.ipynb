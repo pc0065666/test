{
 "cells": [
  {
   "cell_type": "code",
   "execution_count": 4,
   "metadata": {},
   "outputs": [
    {
     "name": "stdout",
     "output_type": "stream",
     "text": [
      "Requirement already satisfied: tensorflow in c:\\python36\\lib\\site-packages\n",
      "Requirement already satisfied: wheel>=0.26 in c:\\python36\\lib\\site-packages (from tensorflow)\n",
      "Requirement already satisfied: protobuf>=3.3.0 in c:\\python36\\lib\\site-packages (from tensorflow)\n",
      "Requirement already satisfied: six>=1.10.0 in c:\\python36\\lib\\site-packages (from tensorflow)\n",
      "Requirement already satisfied: numpy>=1.11.0 in c:\\python36\\lib\\site-packages (from tensorflow)\n",
      "Requirement already satisfied: tensorflow-tensorboard<0.2.0,>=0.1.0 in c:\\python36\\lib\\site-packages (from tensorflow)\n",
      "Requirement already satisfied: setuptools in c:\\python36\\lib\\site-packages (from protobuf>=3.3.0->tensorflow)\n",
      "Requirement already satisfied: html5lib==0.9999999 in c:\\python36\\lib\\site-packages (from tensorflow-tensorboard<0.2.0,>=0.1.0->tensorflow)\n",
      "Requirement already satisfied: markdown>=2.6.8 in c:\\python36\\lib\\site-packages (from tensorflow-tensorboard<0.2.0,>=0.1.0->tensorflow)\n",
      "Requirement already satisfied: werkzeug>=0.11.10 in c:\\python36\\lib\\site-packages (from tensorflow-tensorboard<0.2.0,>=0.1.0->tensorflow)\n",
      "Requirement already satisfied: bleach==1.5.0 in c:\\python36\\lib\\site-packages (from tensorflow-tensorboard<0.2.0,>=0.1.0->tensorflow)\n"
     ]
    }
   ],
   "source": [
    "!pip install tensorflow"
   ]
  },
  {
   "cell_type": "code",
   "execution_count": 8,
   "metadata": {},
   "outputs": [
    {
     "name": "stdout",
     "output_type": "stream",
     "text": [
      "Collecting matplotlib\n",
      "  Downloading matplotlib-2.0.2-cp36-cp36m-win_amd64.whl (8.9MB)\n",
      "Collecting pytz (from matplotlib)\n",
      "  Using cached pytz-2017.2-py2.py3-none-any.whl\n",
      "Collecting cycler>=0.10 (from matplotlib)\n",
      "  Using cached cycler-0.10.0-py2.py3-none-any.whl\n",
      "Collecting pyparsing!=2.0.4,!=2.1.2,!=2.1.6,>=1.5.6 (from matplotlib)\n",
      "  Using cached pyparsing-2.2.0-py2.py3-none-any.whl\n",
      "Requirement already satisfied: python-dateutil in c:\\python36\\lib\\site-packages (from matplotlib)\n",
      "Requirement already satisfied: numpy>=1.7.1 in c:\\python36\\lib\\site-packages (from matplotlib)\n",
      "Requirement already satisfied: six>=1.10 in c:\\python36\\lib\\site-packages (from matplotlib)\n",
      "Installing collected packages: pytz, cycler, pyparsing, matplotlib\n",
      "Successfully installed cycler-0.10.0 matplotlib-2.0.2 pyparsing-2.2.0 pytz-2017.2\n"
     ]
    }
   ],
   "source": [
    "!pip install matplotlib"
   ]
  },
  {
   "cell_type": "code",
   "execution_count": 2,
   "metadata": {},
   "outputs": [
    {
     "ename": "SyntaxError",
     "evalue": "invalid syntax (<ipython-input-2-cbf92011d6ff>, line 1)",
     "output_type": "error",
     "traceback": [
      "\u001b[1;36m  File \u001b[1;32m\"<ipython-input-2-cbf92011d6ff>\"\u001b[1;36m, line \u001b[1;32m1\u001b[0m\n\u001b[1;33m    import tensorflow-gpu as tf\u001b[0m\n\u001b[1;37m                     ^\u001b[0m\n\u001b[1;31mSyntaxError\u001b[0m\u001b[1;31m:\u001b[0m invalid syntax\n"
     ]
    }
   ],
   "source": [
    "import tensorflow-gpu as tf\n",
    "import numpy as np\n",
    "import matplotlib.pyplot as plt\n",
    "# 用 numpy 亂數產生 100 個點，並且\n",
    "x_data = np.random.rand(100).astype(np.float32)\n",
    "y_data = x_data * 0.1 + 0.3\n",
    "# Try to find values for W and b that compute y_data = W * x_data + b\n",
    "# (We know that W should be 0.1 and b 0.3, but TensorFlow will\n",
    "# figure that out for us.) \n",
    "# 等等 tensorflow 幫我們慢慢地找出 fitting 的權重值\n",
    "W = tf.Variable(tf.random_uniform([1], -1.0, 1.0))\n",
    "b = tf.Variable(tf.zeros([1]))\n",
    "y = W * x_data + b\n",
    "# Minimize the mean squared errors.\n",
    "loss = tf.reduce_mean(tf.square(y - y_data))\n",
    "optimizer = tf.train.GradientDescentOptimizer(0.2)\n",
    "train = optimizer.minimize(loss)\n",
    "# Before starting, initialize the variables.  We will 'run' this first.\n",
    "init = tf.global_variables_initializer()\n",
    "# Launch the graph.\n",
    "sess = tf.Session()\n",
    "sess.run(init)\n",
    "# Fit the line.\n",
    "for step in range(201):\n",
    "    sess.run(train)\n",
    "    if step % 20 == 0:\n",
    "        print(step, sess.run(W), sess.run(b))\n",
    "        plt.plot(x_data, y_data, 'ro', label='Original data')\n",
    "        plt.plot(x_data, sess.run(W) * x_data + sess.run(b), label='Fitted line')\n",
    "        plt.legend()\n",
    "        plt.show()\n",
    "# Learns best fit is W: [0.1], b: [0.3]"
   ]
  }
 ],
 "metadata": {
  "kernelspec": {
   "display_name": "Python 3",
   "language": "python",
   "name": "python3"
  },
  "language_info": {
   "codemirror_mode": {
    "name": "ipython",
    "version": 3
   },
   "file_extension": ".py",
   "mimetype": "text/x-python",
   "name": "python",
   "nbconvert_exporter": "python",
   "pygments_lexer": "ipython3",
   "version": "3.6.2"
  }
 },
 "nbformat": 4,
 "nbformat_minor": 2
}
